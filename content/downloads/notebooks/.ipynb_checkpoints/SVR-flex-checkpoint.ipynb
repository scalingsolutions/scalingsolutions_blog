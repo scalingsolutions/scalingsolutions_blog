{
 "metadata": {
  "name": "",
  "signature": "sha256:29730e5dc70ff46abe96ca5df6f97e94037eb6a059c240bbe3394c148e63a9ad"
 },
 "nbformat": 3,
 "nbformat_minor": 0,
 "worksheets": [
  {
   "cells": [
    {
     "cell_type": "markdown",
     "metadata": {},
     "source": [
      "Support vector regression (SVR) is a fast and accurate way of interpolating your data. It is useful when you have an expensive function you want to approximate over a known domain. It learns quickly and is systematically improvable. Variants of SVR are used throughout science including Krigging and Gaussian processes. In this short post I'll explain how you can build and train a SVR machine, focusing mostly on the Gaussian process variety, and talk about some circumstances where it is useful.\n",
      "\n",
      "# What is SVR? #\n",
      "\n",
      "To build a SVR you must perform 4 tasks,\n",
      "\n",
      "<ol>\n",
      "<li> Collect a training set, $\\vec{X}, \\vec{Y}$.</li>\n",
      "<li> Choose a kernel and it's parameters as well as any regularization you may need. </li>\n",
      "<li> Form the correlation matrix, $ \\bar{K}$. </li>\n",
      "<li> Solve a linear equation, exactly or approximately, to get contraction coefficients, $ \\vec{\\alpha} = \\{ \\alpha_i \\}$. </li>\n",
      "<li> Using those coefficients, create your estimator, $f(\\vec{X},\\vec{\\alpha},x^\\star) = y^\\star $. </li>\n",
      "</ol>\n",
      "\n",
      "Now let's take each of these steps one by one and talk a little bit about what they are doing.\n",
      "\n",
      "## The training set ##\n",
      "Your training set consists of the samples you've collected to train your machine. They should span the domain you are expecting to evaluate later. For instance, if you are using your SVR machine to estimate the cosine function, you should train it on the domain $ 0 \\rightarrow 2\\pi $ (and shift your evaluations into that range). When you evaluate the SVR machine outside the domain you evaluate the result will vary depending on your choice of kernel and optimization routine.\n",
      "\n",
      "## Choosing a kernel ##\n",
      "You are free to choose whatever kernel you would like. In this example I'll focus on using the Gaussian kernel,\n",
      "$$ K_G(\\vec{x^i},\\vec{x^j},\\vec{\\theta}) = \\exp{\\left( \\sum_k^{N_{D}} \\theta_k\\left|x_k^i - x_k^j\\right|^2  \\right)}$$\n",
      "where $N_D$ is the number of dimensions in each data point $\\vec{x}$ and the vector $\\vec{\\theta}$ is a set of hyperparameters. Some other common choices of kernel are polynomial, Laplacian, sigmoid, and radial basis functions. All of these functions have a set of hyperparameters that must be trained. \n",
      "\n",
      "In the gaussian process framework, the statistical interpretation of these parameters are somewhat complicated, but totally worth checking out. I refer you to one of my favorite papers on the subject, [\"Bi-fidelity fitting and optimization\"](http://scitation.aip.org/content/aip/journal/jcp/136/7/10.1063/1.3684884), if you can get behind the paywall. Otherwise a pretty decent source can be found at [\"Gaussian Processes for Machine Learning\"](http://www.gaussianprocess.org/gpml/chapters/). In short, they are chosen such that they maximize the marginal probability of the training set being generated using the kernel as the Bayesian prior.\n",
      "\n",
      "This training is the most expensive part of performing SVR, and much research has gone into developing good ways to do it. We can train it straightforwardly, if expensively, using CG or another gradient based optimization method and minimizing the cost function. The explicit form of the cost function can be found in equation 5.8 in [\"Gaussian Processes for Machine Learning\"](http://www.gaussianprocess.org/gpml/chapters/). Other forms of SVM will use different cost functions and parameter selection routines.\n",
      "\n",
      "### Does the kernel matter? ###\n",
      "Yes! If you choose a kernel that goes to zero as the distance between it's arguments grows, such as the Gaussian above,  $K_G(0,\\infty)=0$, then as you move away from your training data, the machine will return the mean value of your training set. If you choose a function that grows larger, such as linear or polynomial, the value will also grow linearly or polynomially. Your choice of kernel will determine the asymptotic behavior of your estimator. Choose your kernel appropriately for your problem.\n",
      "\n",
      "### Does the regularization matter? ###\n",
      "Yes! For training sets with some noise, the regularizer helps prevent wild fluctuations between data points by smoothing out the prior. You can think of this process as adding some slack to the machine. Regularization is achieved by adding a small positive component to the diagonal of the correlation matrix.\n",
      "\n",
      "## Forming the correlation matrix ##\n",
      "Forming this matrix is straightforward and really doesn't require any discussion. You evaluate your kernel for all pairs of points in the training set and then add your regularizer to the diagonal. This results in the matrix,\n",
      "$$ K_{i,j} = \\exp{\\left( \\sum_k \\theta_k\\left|x_k^i - x_k^j\\right|^2  \\right)} + \\epsilon \\delta_{i,j}$$\n",
      "where $\\epsilon$ is your regularizer and $\\delta_{i,j}$ is the kroeniker delta function. This matrix is symmetric positive definite (semi-definite in the numerical sense) and easy to work with. It represents the correlation matrix of the data in a [higher dimensional space](http://www.cs.berkeley.edu/~jordan/courses/281B-spring04/lectures/lec3.pdf) than the one your training set is drawn from.\n",
      "\n",
      "## Solve the matrix to form your estimator ##\n",
      "This is the meat of the algorithm. Fortunately, it's all just linear algebra. Your machine works like this,\n",
      "$$ \\bar{K} \\vec{\\alpha} = \\vec{y} $$\n",
      "where $\\vec{y}$ is the vector of values corresponding to your training set, $\\bar{K}$ is still your correlation matrix, and $\\vec{\\alpha}$ is a set of unknowns we need to solve for. Doing so is simple, we just invert the matrix $\\bar{K}$ and apply it to the vector, $\\vec{y}$,\n",
      "$$  \\vec{\\alpha} = \\bar{K}^{-1}\\vec{y}. $$\n",
      "Because our correlation matrix is so well behaved, efficient methods for inversion can be used (QR/Cholesky).\n",
      "\n",
      "## Forming the estimator ##\n",
      "Once your $\\vec{\\alpha}$ parameters are known, forming the estimator is straightforward. To estimate the value, $ y^\\star $, for a test point, $\\vec{x}^\\star$, we simply compute the correlation vector, $\\vec{k}$, and find the inner product with the alpha vector,\n",
      "$$ y^\\star = \\vec{\\alpha}\\cdot\\vec{k} $$\n",
      "where we compute the elements of $\\vec{k}$ as, \n",
      "$$ k_i = \\exp{\\left( \\sum_k \\theta_k\\left|x_k^i - x_k^\\star\\right|^2  \\right)}.$$\n",
      "\n",
      "You can see from the previous equation, if our regularizer is zero and we've inverted our matrix exactly, then the estimator perfectly passes though all of our training points. That is because the vector $\\vec{k}$ is identical to a row in the correlation matrix if the test point is in the training set! Once the regularizer is included or we have gotten our parameters using something quick but approximate, we don't recover our training set solutions, but htey should be close.\n",
      "\n",
      "### Dirty tricks ###\n",
      "You may notice that I have implicitly removed the mean value from my training set data. You add the mean value from the training set back into the estimator when you're done,\n",
      "$$ y^\\star = \\vec{\\alpha}\\cdot\\vec{k} + \\mu $$\n",
      "where $\\mu = \\bar{y}$ and all $y$ are recentered, $y\\rightarrow y-\\bar{y}$. This makes it easier for the algorithm to interpolate the differences between the data points in your trinaing set instead of working very hard to also reproduce the mean.\n",
      "\n",
      "In practice, you also want to scale your inputs so they all have the same range. The reason for this trick is the same as for any other machine that requires some nonlinear optimization. You're trying to make the minimum for your cost function as smooth and harmonic looking as possible."
     ]
    },
    {
     "cell_type": "markdown",
     "metadata": {},
     "source": [
      "# What is  the SVR _really_? #\n",
      "So, now that I've taken all this time to tell you how a SVR machine, and in particular Gaussian process machine, is built, I owe you an intuitive explanation of what it is doing. It's not an easy task, so bear with me for a bit and I hope it will pay off.\n",
      "\n",
      "The SVR performs linear regression in a higher (infinite) dimensional space. A simple way to think of it is as if each data point in your training set represents it's own dimension. When you evaluate your kernel between a test point and a point in your training set, the resulting value gives you the coordinate of your test point in that dimension. The vector we get when we evaluate the test point for all points in the training set, $\\vec{k}$, is the representation of the test point in the higher dimensional space. The form of the kernel tells you about the geometry of that higher dimensional space. \n",
      "\n",
      "Once you have that vector, you use it to perform a linear regression. You can tell it is a linear regression because of the form of the estimator, it's an inner product! Thus the intuition for the machine is rather simple, though the procedure and parameters may be difficult to interpret."
     ]
    },
    {
     "cell_type": "markdown",
     "metadata": {},
     "source": [
      "# So, what's the SVR good for? #\n",
      "Because you are able to generate training points, you know what the \"right\" answer is. However, it may be very expensive to compute that answer for every new point you need. The SVR, and in particular Gaussian processes, are very good at providing a cheap surrogate to an expensive call. If the function you are trying to compute is smooth, and you expect to have to call it over and over again, you may be able to gain a significant savings by pre-computing a training set and then using a SVR machine to interpolate the results."
     ]
    },
    {
     "cell_type": "markdown",
     "metadata": {},
     "source": [
      "# Further reading #\n",
      "\n",
      "For a more extensive discussion and tutorial on SVR you should check out Smola and Scholkopf's excellent review from several years back, \"[A Tutorial on Support Vector Regression](http://alex.smola.org/papers/2003/SmoSch03b.pdf).\" You can also find more detail in texts such as \"[The Elements of Statistical Learning](http://statweb.stanford.edu/~tibs/ElemStatLearn/).\""
     ]
    },
    {
     "cell_type": "markdown",
     "metadata": {},
     "source": [
      "# Next time #\n",
      "At this point we'll split the blog postings up. I'll talk a little about the parameters and give an example. Ben will put things into context by talking about some of the different SVR machines and related pieces. John will take my learning speed and benchmark it against a much faster version built using continuum's tools.\n",
      "\n",
      "Drop Jeremy a line at [Quora](http://www.quora.com/Jeremy-McMinis) or [Github](https://github.com/mcminis1)."
     ]
    }
   ],
   "metadata": {}
  }
 ]
}