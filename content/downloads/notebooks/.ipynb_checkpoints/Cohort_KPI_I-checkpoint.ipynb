{
 "metadata": {
  "name": "",
  "signature": "sha256:c7e85d661bc499140c10486bbd3cb7fcd1e31385c6d07dba2bc96564a6cd39b4"
 },
 "nbformat": 3,
 "nbformat_minor": 0,
 "worksheets": [
  {
   "cells": [
    {
     "cell_type": "markdown",
     "metadata": {},
     "source": [
      "Successful companies are tireless in their pursuit of new and better products. The frequency of product updates and new releases may vary across sectors. But at the end of the day, if you\u2019re not innovating and changing, you\u2019re dead in the water.\n",
      "\n",
      "For companies that can release frequent updates \u2014 SaaS businesses come to mind \u2014 it can be difficult to track the success or failure of particular product investments. For instance, how can you tell if a new on-boarding procedure is working? This is what cohort analysis is good for!"
     ]
    },
    {
     "cell_type": "heading",
     "level": 2,
     "metadata": {},
     "source": [
      "Cohort analysis"
     ]
    },
    {
     "cell_type": "markdown",
     "metadata": {},
     "source": [
      "Cohort analysis is a technique that allows you to see how your product is performing over time for different user groups. To get value out of cohort analysis, you need to be able to do four things:\n",
      "<ol>\n",
      "<li> Decide which key performance indicators (KPI) address your business problem\n",
      "<li> Segment your users\n",
      "<li> Record these KPI over time\n",
      "<li> Apply the KPI data in a structured, consistent way when making decisions\n",
      "</ol>\n",
      "\n",
      "Many companies have at least partial solutions in place for the first three \u2014 but nearly everyone misses the fourth (and arguably most important) step. We\u2019ll talk about each of these with a little detail and follow up with an example in my following post."
     ]
    },
    {
     "cell_type": "heading",
     "level": 2,
     "metadata": {},
     "source": [
      "Finding your KPI"
     ]
    },
    {
     "cell_type": "markdown",
     "metadata": {},
     "source": [
      "Changes to your product are made with measurable goals in mind. Whether these goals are abstract or concrete, they will be reflected by some key metrics. These key metrics are your KPIs. Here are a few examples:\n",
      "<ul>\n",
      "<li> User engagement: time on site, number of pages visited, etc.\n",
      "<li> Account churn\n",
      "<li> Time between purchases\n",
      "</ul>\n",
      "\n",
      "When you make a change to your site or application, you are trying to achieve one of your business goals. Increasing (or decreasing) these KPI tells you how well you are doing. This is the obvious part. The challenging part is knowing all of the product updates, tracking the KPIs and applying these quantified insights to improve your next cycle of product development."
     ]
    },
    {
     "cell_type": "heading",
     "level": 2,
     "metadata": {},
     "source": [
      "Segmenting your users"
     ]
    },
    {
     "cell_type": "markdown",
     "metadata": {},
     "source": [
      "Segmenting your users allows you to see how changes you make affect different groups of people. These segments are usually binned into time groups based on when a user performed an action. Some example segments include:\n",
      "<ul>\n",
      "<li> The week they joined or bought their first subscription\n",
      "<li> When their company went IPO\n",
      "<li> When the account changed owners or management\n",
      "</ul>\n",
      "\n",
      "Breaking the groups into segments like this allows you to see how your changes have affected your customers that are in different parts of their business cycle, or with different levels of experience using your product. The goal here, of course, is identifying which new products or features best engage your users to drive your desired business outcome \u2014 more engagement, bigger average purchase size, more units sold, etc."
     ]
    },
    {
     "cell_type": "heading",
     "level": 2,
     "metadata": {},
     "source": [
      "Keep track"
     ]
    },
    {
     "cell_type": "markdown",
     "metadata": {},
     "source": [
      "Once you know who and what you want to monitor, all that is left is recording your data. For cohort analysis to be effective, you need to collect data both before and after your changes are made.  Using this data, you can tell if all the new features you\u2019ve added to your product have the effect you expect. It\u2019s good practice to keep your data, including server logs, analytics reporting, and other resources you may use on hand to be able to recompute new KPI in case you misidentified them the first time."
     ]
    },
    {
     "cell_type": "markdown",
     "metadata": {},
     "source": [
      "Now we\u2019ve covered the basics of how to start performing cohort analysis! Next time we\u2019ll give an example of cohort analysis, the magical fourth step. Our examples will be a SaaS company that has recently changed their on-boarding procedure and a consumer retailer who has redesigned their checkout process."
     ]
    }
   ],
   "metadata": {}
  }
 ]
}